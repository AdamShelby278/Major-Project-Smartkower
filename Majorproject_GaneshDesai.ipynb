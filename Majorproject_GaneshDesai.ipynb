{
  "nbformat": 4,
  "nbformat_minor": 0,
  "metadata": {
    "colab": {
      "name": "Majorproject GaneshDesai.ipynb",
      "provenance": [],
      "authorship_tag": "ABX9TyNeOOisUthNm6yQWJ8vx1pr",
      "include_colab_link": true
    },
    "kernelspec": {
      "name": "python3",
      "display_name": "Python 3"
    },
    "language_info": {
      "name": "python"
    }
  },
  "cells": [
    {
      "cell_type": "markdown",
      "metadata": {
        "id": "view-in-github",
        "colab_type": "text"
      },
      "source": [
        "<a href=\"https://colab.research.google.com/github/AdamShelby278/Major-Project-Smartkower/blob/main/Majorproject_GaneshDesai.ipynb\" target=\"_parent\"><img src=\"https://colab.research.google.com/assets/colab-badge.svg\" alt=\"Open In Colab\"/></a>"
      ]
    },
    {
      "cell_type": "markdown",
      "metadata": {
        "id": "Sbx95K1Vdof6"
      },
      "source": [
        "#MAJOR PROJECT"
      ]
    },
    {
      "cell_type": "markdown",
      "metadata": {
        "id": "tyVSnWJyeNKN"
      },
      "source": [
        "Importing libraries"
      ]
    },
    {
      "cell_type": "code",
      "metadata": {
        "id": "yHqYRgl6dm0x"
      },
      "source": [
        "import pandas as pd"
      ],
      "execution_count": null,
      "outputs": []
    },
    {
      "cell_type": "markdown",
      "metadata": {
        "id": "-oZRhuIqeZRD"
      },
      "source": [
        "Collecting data"
      ]
    },
    {
      "cell_type": "code",
      "metadata": {
        "colab": {
          "base_uri": "https://localhost:8080/",
          "height": 609
        },
        "id": "wkn-IurHeEx3",
        "outputId": "5e4688be-d55a-4225-ba68-9e436e52df14"
      },
      "source": [
        "df = pd.read_csv('/content/owid-covid-data.csv')\n",
        "df"
      ],
      "execution_count": null,
      "outputs": [
        {
          "output_type": "execute_result",
          "data": {
            "text/html": [
              "<div>\n",
              "<style scoped>\n",
              "    .dataframe tbody tr th:only-of-type {\n",
              "        vertical-align: middle;\n",
              "    }\n",
              "\n",
              "    .dataframe tbody tr th {\n",
              "        vertical-align: top;\n",
              "    }\n",
              "\n",
              "    .dataframe thead th {\n",
              "        text-align: right;\n",
              "    }\n",
              "</style>\n",
              "<table border=\"1\" class=\"dataframe\">\n",
              "  <thead>\n",
              "    <tr style=\"text-align: right;\">\n",
              "      <th></th>\n",
              "      <th>iso_code</th>\n",
              "      <th>continent</th>\n",
              "      <th>location</th>\n",
              "      <th>date</th>\n",
              "      <th>total_cases</th>\n",
              "      <th>new_cases</th>\n",
              "      <th>new_cases_smoothed</th>\n",
              "      <th>total_deaths</th>\n",
              "      <th>new_deaths</th>\n",
              "      <th>new_deaths_smoothed</th>\n",
              "      <th>total_cases_per_million</th>\n",
              "      <th>new_cases_per_million</th>\n",
              "      <th>new_cases_smoothed_per_million</th>\n",
              "      <th>total_deaths_per_million</th>\n",
              "      <th>new_deaths_per_million</th>\n",
              "      <th>new_deaths_smoothed_per_million</th>\n",
              "      <th>reproduction_rate</th>\n",
              "      <th>icu_patients</th>\n",
              "      <th>icu_patients_per_million</th>\n",
              "      <th>hosp_patients</th>\n",
              "      <th>hosp_patients_per_million</th>\n",
              "      <th>weekly_icu_admissions</th>\n",
              "      <th>weekly_icu_admissions_per_million</th>\n",
              "      <th>weekly_hosp_admissions</th>\n",
              "      <th>weekly_hosp_admissions_per_million</th>\n",
              "      <th>new_tests</th>\n",
              "      <th>total_tests</th>\n",
              "      <th>total_tests_per_thousand</th>\n",
              "      <th>new_tests_per_thousand</th>\n",
              "      <th>new_tests_smoothed</th>\n",
              "      <th>new_tests_smoothed_per_thousand</th>\n",
              "      <th>positive_rate</th>\n",
              "      <th>tests_per_case</th>\n",
              "      <th>tests_units</th>\n",
              "      <th>total_vaccinations</th>\n",
              "      <th>people_vaccinated</th>\n",
              "      <th>people_fully_vaccinated</th>\n",
              "      <th>new_vaccinations</th>\n",
              "      <th>new_vaccinations_smoothed</th>\n",
              "      <th>total_vaccinations_per_hundred</th>\n",
              "      <th>people_vaccinated_per_hundred</th>\n",
              "      <th>people_fully_vaccinated_per_hundred</th>\n",
              "      <th>new_vaccinations_smoothed_per_million</th>\n",
              "      <th>stringency_index</th>\n",
              "      <th>population</th>\n",
              "      <th>population_density</th>\n",
              "      <th>median_age</th>\n",
              "      <th>aged_65_older</th>\n",
              "      <th>aged_70_older</th>\n",
              "      <th>gdp_per_capita</th>\n",
              "      <th>extreme_poverty</th>\n",
              "      <th>cardiovasc_death_rate</th>\n",
              "      <th>diabetes_prevalence</th>\n",
              "      <th>female_smokers</th>\n",
              "      <th>male_smokers</th>\n",
              "      <th>handwashing_facilities</th>\n",
              "      <th>hospital_beds_per_thousand</th>\n",
              "      <th>life_expectancy</th>\n",
              "      <th>human_development_index</th>\n",
              "    </tr>\n",
              "  </thead>\n",
              "  <tbody>\n",
              "    <tr>\n",
              "      <th>0</th>\n",
              "      <td>AFG</td>\n",
              "      <td>Asia</td>\n",
              "      <td>Afghanistan</td>\n",
              "      <td>2020-02-24</td>\n",
              "      <td>1.0</td>\n",
              "      <td>1.0</td>\n",
              "      <td>NaN</td>\n",
              "      <td>NaN</td>\n",
              "      <td>NaN</td>\n",
              "      <td>NaN</td>\n",
              "      <td>0.026</td>\n",
              "      <td>0.026</td>\n",
              "      <td>NaN</td>\n",
              "      <td>NaN</td>\n",
              "      <td>NaN</td>\n",
              "      <td>NaN</td>\n",
              "      <td>NaN</td>\n",
              "      <td>NaN</td>\n",
              "      <td>NaN</td>\n",
              "      <td>NaN</td>\n",
              "      <td>NaN</td>\n",
              "      <td>NaN</td>\n",
              "      <td>NaN</td>\n",
              "      <td>NaN</td>\n",
              "      <td>NaN</td>\n",
              "      <td>NaN</td>\n",
              "      <td>NaN</td>\n",
              "      <td>NaN</td>\n",
              "      <td>NaN</td>\n",
              "      <td>NaN</td>\n",
              "      <td>NaN</td>\n",
              "      <td>NaN</td>\n",
              "      <td>NaN</td>\n",
              "      <td>NaN</td>\n",
              "      <td>NaN</td>\n",
              "      <td>NaN</td>\n",
              "      <td>NaN</td>\n",
              "      <td>NaN</td>\n",
              "      <td>NaN</td>\n",
              "      <td>NaN</td>\n",
              "      <td>NaN</td>\n",
              "      <td>NaN</td>\n",
              "      <td>NaN</td>\n",
              "      <td>8.33</td>\n",
              "      <td>38928341.0</td>\n",
              "      <td>54.422</td>\n",
              "      <td>18.6</td>\n",
              "      <td>2.581</td>\n",
              "      <td>1.337</td>\n",
              "      <td>1803.987</td>\n",
              "      <td>NaN</td>\n",
              "      <td>597.029</td>\n",
              "      <td>9.59</td>\n",
              "      <td>NaN</td>\n",
              "      <td>NaN</td>\n",
              "      <td>37.746</td>\n",
              "      <td>0.5</td>\n",
              "      <td>64.83</td>\n",
              "      <td>0.511</td>\n",
              "    </tr>\n",
              "    <tr>\n",
              "      <th>1</th>\n",
              "      <td>AFG</td>\n",
              "      <td>Asia</td>\n",
              "      <td>Afghanistan</td>\n",
              "      <td>2020-02-25</td>\n",
              "      <td>1.0</td>\n",
              "      <td>0.0</td>\n",
              "      <td>NaN</td>\n",
              "      <td>NaN</td>\n",
              "      <td>NaN</td>\n",
              "      <td>NaN</td>\n",
              "      <td>0.026</td>\n",
              "      <td>0.000</td>\n",
              "      <td>NaN</td>\n",
              "      <td>NaN</td>\n",
              "      <td>NaN</td>\n",
              "      <td>NaN</td>\n",
              "      <td>NaN</td>\n",
              "      <td>NaN</td>\n",
              "      <td>NaN</td>\n",
              "      <td>NaN</td>\n",
              "      <td>NaN</td>\n",
              "      <td>NaN</td>\n",
              "      <td>NaN</td>\n",
              "      <td>NaN</td>\n",
              "      <td>NaN</td>\n",
              "      <td>NaN</td>\n",
              "      <td>NaN</td>\n",
              "      <td>NaN</td>\n",
              "      <td>NaN</td>\n",
              "      <td>NaN</td>\n",
              "      <td>NaN</td>\n",
              "      <td>NaN</td>\n",
              "      <td>NaN</td>\n",
              "      <td>NaN</td>\n",
              "      <td>NaN</td>\n",
              "      <td>NaN</td>\n",
              "      <td>NaN</td>\n",
              "      <td>NaN</td>\n",
              "      <td>NaN</td>\n",
              "      <td>NaN</td>\n",
              "      <td>NaN</td>\n",
              "      <td>NaN</td>\n",
              "      <td>NaN</td>\n",
              "      <td>8.33</td>\n",
              "      <td>38928341.0</td>\n",
              "      <td>54.422</td>\n",
              "      <td>18.6</td>\n",
              "      <td>2.581</td>\n",
              "      <td>1.337</td>\n",
              "      <td>1803.987</td>\n",
              "      <td>NaN</td>\n",
              "      <td>597.029</td>\n",
              "      <td>9.59</td>\n",
              "      <td>NaN</td>\n",
              "      <td>NaN</td>\n",
              "      <td>37.746</td>\n",
              "      <td>0.5</td>\n",
              "      <td>64.83</td>\n",
              "      <td>0.511</td>\n",
              "    </tr>\n",
              "    <tr>\n",
              "      <th>2</th>\n",
              "      <td>AFG</td>\n",
              "      <td>Asia</td>\n",
              "      <td>Afghanistan</td>\n",
              "      <td>2020-02-26</td>\n",
              "      <td>1.0</td>\n",
              "      <td>0.0</td>\n",
              "      <td>NaN</td>\n",
              "      <td>NaN</td>\n",
              "      <td>NaN</td>\n",
              "      <td>NaN</td>\n",
              "      <td>0.026</td>\n",
              "      <td>0.000</td>\n",
              "      <td>NaN</td>\n",
              "      <td>NaN</td>\n",
              "      <td>NaN</td>\n",
              "      <td>NaN</td>\n",
              "      <td>NaN</td>\n",
              "      <td>NaN</td>\n",
              "      <td>NaN</td>\n",
              "      <td>NaN</td>\n",
              "      <td>NaN</td>\n",
              "      <td>NaN</td>\n",
              "      <td>NaN</td>\n",
              "      <td>NaN</td>\n",
              "      <td>NaN</td>\n",
              "      <td>NaN</td>\n",
              "      <td>NaN</td>\n",
              "      <td>NaN</td>\n",
              "      <td>NaN</td>\n",
              "      <td>NaN</td>\n",
              "      <td>NaN</td>\n",
              "      <td>NaN</td>\n",
              "      <td>NaN</td>\n",
              "      <td>NaN</td>\n",
              "      <td>NaN</td>\n",
              "      <td>NaN</td>\n",
              "      <td>NaN</td>\n",
              "      <td>NaN</td>\n",
              "      <td>NaN</td>\n",
              "      <td>NaN</td>\n",
              "      <td>NaN</td>\n",
              "      <td>NaN</td>\n",
              "      <td>NaN</td>\n",
              "      <td>8.33</td>\n",
              "      <td>38928341.0</td>\n",
              "      <td>54.422</td>\n",
              "      <td>18.6</td>\n",
              "      <td>2.581</td>\n",
              "      <td>1.337</td>\n",
              "      <td>1803.987</td>\n",
              "      <td>NaN</td>\n",
              "      <td>597.029</td>\n",
              "      <td>9.59</td>\n",
              "      <td>NaN</td>\n",
              "      <td>NaN</td>\n",
              "      <td>37.746</td>\n",
              "      <td>0.5</td>\n",
              "      <td>64.83</td>\n",
              "      <td>0.511</td>\n",
              "    </tr>\n",
              "    <tr>\n",
              "      <th>3</th>\n",
              "      <td>AFG</td>\n",
              "      <td>Asia</td>\n",
              "      <td>Afghanistan</td>\n",
              "      <td>2020-02-27</td>\n",
              "      <td>1.0</td>\n",
              "      <td>0.0</td>\n",
              "      <td>NaN</td>\n",
              "      <td>NaN</td>\n",
              "      <td>NaN</td>\n",
              "      <td>NaN</td>\n",
              "      <td>0.026</td>\n",
              "      <td>0.000</td>\n",
              "      <td>NaN</td>\n",
              "      <td>NaN</td>\n",
              "      <td>NaN</td>\n",
              "      <td>NaN</td>\n",
              "      <td>NaN</td>\n",
              "      <td>NaN</td>\n",
              "      <td>NaN</td>\n",
              "      <td>NaN</td>\n",
              "      <td>NaN</td>\n",
              "      <td>NaN</td>\n",
              "      <td>NaN</td>\n",
              "      <td>NaN</td>\n",
              "      <td>NaN</td>\n",
              "      <td>NaN</td>\n",
              "      <td>NaN</td>\n",
              "      <td>NaN</td>\n",
              "      <td>NaN</td>\n",
              "      <td>NaN</td>\n",
              "      <td>NaN</td>\n",
              "      <td>NaN</td>\n",
              "      <td>NaN</td>\n",
              "      <td>NaN</td>\n",
              "      <td>NaN</td>\n",
              "      <td>NaN</td>\n",
              "      <td>NaN</td>\n",
              "      <td>NaN</td>\n",
              "      <td>NaN</td>\n",
              "      <td>NaN</td>\n",
              "      <td>NaN</td>\n",
              "      <td>NaN</td>\n",
              "      <td>NaN</td>\n",
              "      <td>8.33</td>\n",
              "      <td>38928341.0</td>\n",
              "      <td>54.422</td>\n",
              "      <td>18.6</td>\n",
              "      <td>2.581</td>\n",
              "      <td>1.337</td>\n",
              "      <td>1803.987</td>\n",
              "      <td>NaN</td>\n",
              "      <td>597.029</td>\n",
              "      <td>9.59</td>\n",
              "      <td>NaN</td>\n",
              "      <td>NaN</td>\n",
              "      <td>37.746</td>\n",
              "      <td>0.5</td>\n",
              "      <td>64.83</td>\n",
              "      <td>0.511</td>\n",
              "    </tr>\n",
              "    <tr>\n",
              "      <th>4</th>\n",
              "      <td>AFG</td>\n",
              "      <td>Asia</td>\n",
              "      <td>Afghanistan</td>\n",
              "      <td>2020-02-28</td>\n",
              "      <td>1.0</td>\n",
              "      <td>0.0</td>\n",
              "      <td>NaN</td>\n",
              "      <td>NaN</td>\n",
              "      <td>NaN</td>\n",
              "      <td>NaN</td>\n",
              "      <td>0.026</td>\n",
              "      <td>0.000</td>\n",
              "      <td>NaN</td>\n",
              "      <td>NaN</td>\n",
              "      <td>NaN</td>\n",
              "      <td>NaN</td>\n",
              "      <td>NaN</td>\n",
              "      <td>NaN</td>\n",
              "      <td>NaN</td>\n",
              "      <td>NaN</td>\n",
              "      <td>NaN</td>\n",
              "      <td>NaN</td>\n",
              "      <td>NaN</td>\n",
              "      <td>NaN</td>\n",
              "      <td>NaN</td>\n",
              "      <td>NaN</td>\n",
              "      <td>NaN</td>\n",
              "      <td>NaN</td>\n",
              "      <td>NaN</td>\n",
              "      <td>NaN</td>\n",
              "      <td>NaN</td>\n",
              "      <td>NaN</td>\n",
              "      <td>NaN</td>\n",
              "      <td>NaN</td>\n",
              "      <td>NaN</td>\n",
              "      <td>NaN</td>\n",
              "      <td>NaN</td>\n",
              "      <td>NaN</td>\n",
              "      <td>NaN</td>\n",
              "      <td>NaN</td>\n",
              "      <td>NaN</td>\n",
              "      <td>NaN</td>\n",
              "      <td>NaN</td>\n",
              "      <td>8.33</td>\n",
              "      <td>38928341.0</td>\n",
              "      <td>54.422</td>\n",
              "      <td>18.6</td>\n",
              "      <td>2.581</td>\n",
              "      <td>1.337</td>\n",
              "      <td>1803.987</td>\n",
              "      <td>NaN</td>\n",
              "      <td>597.029</td>\n",
              "      <td>9.59</td>\n",
              "      <td>NaN</td>\n",
              "      <td>NaN</td>\n",
              "      <td>37.746</td>\n",
              "      <td>0.5</td>\n",
              "      <td>64.83</td>\n",
              "      <td>0.511</td>\n",
              "    </tr>\n",
              "    <tr>\n",
              "      <th>...</th>\n",
              "      <td>...</td>\n",
              "      <td>...</td>\n",
              "      <td>...</td>\n",
              "      <td>...</td>\n",
              "      <td>...</td>\n",
              "      <td>...</td>\n",
              "      <td>...</td>\n",
              "      <td>...</td>\n",
              "      <td>...</td>\n",
              "      <td>...</td>\n",
              "      <td>...</td>\n",
              "      <td>...</td>\n",
              "      <td>...</td>\n",
              "      <td>...</td>\n",
              "      <td>...</td>\n",
              "      <td>...</td>\n",
              "      <td>...</td>\n",
              "      <td>...</td>\n",
              "      <td>...</td>\n",
              "      <td>...</td>\n",
              "      <td>...</td>\n",
              "      <td>...</td>\n",
              "      <td>...</td>\n",
              "      <td>...</td>\n",
              "      <td>...</td>\n",
              "      <td>...</td>\n",
              "      <td>...</td>\n",
              "      <td>...</td>\n",
              "      <td>...</td>\n",
              "      <td>...</td>\n",
              "      <td>...</td>\n",
              "      <td>...</td>\n",
              "      <td>...</td>\n",
              "      <td>...</td>\n",
              "      <td>...</td>\n",
              "      <td>...</td>\n",
              "      <td>...</td>\n",
              "      <td>...</td>\n",
              "      <td>...</td>\n",
              "      <td>...</td>\n",
              "      <td>...</td>\n",
              "      <td>...</td>\n",
              "      <td>...</td>\n",
              "      <td>...</td>\n",
              "      <td>...</td>\n",
              "      <td>...</td>\n",
              "      <td>...</td>\n",
              "      <td>...</td>\n",
              "      <td>...</td>\n",
              "      <td>...</td>\n",
              "      <td>...</td>\n",
              "      <td>...</td>\n",
              "      <td>...</td>\n",
              "      <td>...</td>\n",
              "      <td>...</td>\n",
              "      <td>...</td>\n",
              "      <td>...</td>\n",
              "      <td>...</td>\n",
              "      <td>...</td>\n",
              "    </tr>\n",
              "    <tr>\n",
              "      <th>81432</th>\n",
              "      <td>ZWE</td>\n",
              "      <td>Africa</td>\n",
              "      <td>Zimbabwe</td>\n",
              "      <td>2021-04-09</td>\n",
              "      <td>37147.0</td>\n",
              "      <td>95.0</td>\n",
              "      <td>34.857</td>\n",
              "      <td>1535.0</td>\n",
              "      <td>3.0</td>\n",
              "      <td>1.571</td>\n",
              "      <td>2499.306</td>\n",
              "      <td>6.392</td>\n",
              "      <td>2.345</td>\n",
              "      <td>103.277</td>\n",
              "      <td>0.202</td>\n",
              "      <td>0.106</td>\n",
              "      <td>1.49</td>\n",
              "      <td>NaN</td>\n",
              "      <td>NaN</td>\n",
              "      <td>NaN</td>\n",
              "      <td>NaN</td>\n",
              "      <td>NaN</td>\n",
              "      <td>NaN</td>\n",
              "      <td>NaN</td>\n",
              "      <td>NaN</td>\n",
              "      <td>2407.0</td>\n",
              "      <td>453512.0</td>\n",
              "      <td>30.513</td>\n",
              "      <td>0.162</td>\n",
              "      <td>1789.0</td>\n",
              "      <td>0.120</td>\n",
              "      <td>0.019</td>\n",
              "      <td>51.3</td>\n",
              "      <td>tests performed</td>\n",
              "      <td>206205.0</td>\n",
              "      <td>178237.0</td>\n",
              "      <td>27968.0</td>\n",
              "      <td>12528.0</td>\n",
              "      <td>11636.0</td>\n",
              "      <td>1.39</td>\n",
              "      <td>1.20</td>\n",
              "      <td>0.19</td>\n",
              "      <td>783.0</td>\n",
              "      <td>57.41</td>\n",
              "      <td>14862927.0</td>\n",
              "      <td>42.729</td>\n",
              "      <td>19.6</td>\n",
              "      <td>2.822</td>\n",
              "      <td>1.882</td>\n",
              "      <td>1899.775</td>\n",
              "      <td>21.4</td>\n",
              "      <td>307.846</td>\n",
              "      <td>1.82</td>\n",
              "      <td>1.6</td>\n",
              "      <td>30.7</td>\n",
              "      <td>36.791</td>\n",
              "      <td>1.7</td>\n",
              "      <td>61.49</td>\n",
              "      <td>0.571</td>\n",
              "    </tr>\n",
              "    <tr>\n",
              "      <th>81433</th>\n",
              "      <td>ZWE</td>\n",
              "      <td>Africa</td>\n",
              "      <td>Zimbabwe</td>\n",
              "      <td>2021-04-10</td>\n",
              "      <td>37273.0</td>\n",
              "      <td>126.0</td>\n",
              "      <td>51.714</td>\n",
              "      <td>1538.0</td>\n",
              "      <td>3.0</td>\n",
              "      <td>2.000</td>\n",
              "      <td>2507.783</td>\n",
              "      <td>8.477</td>\n",
              "      <td>3.479</td>\n",
              "      <td>103.479</td>\n",
              "      <td>0.202</td>\n",
              "      <td>0.135</td>\n",
              "      <td>1.50</td>\n",
              "      <td>NaN</td>\n",
              "      <td>NaN</td>\n",
              "      <td>NaN</td>\n",
              "      <td>NaN</td>\n",
              "      <td>NaN</td>\n",
              "      <td>NaN</td>\n",
              "      <td>NaN</td>\n",
              "      <td>NaN</td>\n",
              "      <td>2167.0</td>\n",
              "      <td>455679.0</td>\n",
              "      <td>30.659</td>\n",
              "      <td>0.146</td>\n",
              "      <td>1944.0</td>\n",
              "      <td>0.131</td>\n",
              "      <td>0.027</td>\n",
              "      <td>37.6</td>\n",
              "      <td>tests performed</td>\n",
              "      <td>222733.0</td>\n",
              "      <td>193936.0</td>\n",
              "      <td>28797.0</td>\n",
              "      <td>16528.0</td>\n",
              "      <td>12831.0</td>\n",
              "      <td>1.50</td>\n",
              "      <td>1.30</td>\n",
              "      <td>0.19</td>\n",
              "      <td>863.0</td>\n",
              "      <td>57.41</td>\n",
              "      <td>14862927.0</td>\n",
              "      <td>42.729</td>\n",
              "      <td>19.6</td>\n",
              "      <td>2.822</td>\n",
              "      <td>1.882</td>\n",
              "      <td>1899.775</td>\n",
              "      <td>21.4</td>\n",
              "      <td>307.846</td>\n",
              "      <td>1.82</td>\n",
              "      <td>1.6</td>\n",
              "      <td>30.7</td>\n",
              "      <td>36.791</td>\n",
              "      <td>1.7</td>\n",
              "      <td>61.49</td>\n",
              "      <td>0.571</td>\n",
              "    </tr>\n",
              "    <tr>\n",
              "      <th>81434</th>\n",
              "      <td>ZWE</td>\n",
              "      <td>Africa</td>\n",
              "      <td>Zimbabwe</td>\n",
              "      <td>2021-04-11</td>\n",
              "      <td>37288.0</td>\n",
              "      <td>15.0</td>\n",
              "      <td>52.143</td>\n",
              "      <td>1538.0</td>\n",
              "      <td>0.0</td>\n",
              "      <td>1.857</td>\n",
              "      <td>2508.793</td>\n",
              "      <td>1.009</td>\n",
              "      <td>3.508</td>\n",
              "      <td>103.479</td>\n",
              "      <td>0.000</td>\n",
              "      <td>0.125</td>\n",
              "      <td>1.48</td>\n",
              "      <td>NaN</td>\n",
              "      <td>NaN</td>\n",
              "      <td>NaN</td>\n",
              "      <td>NaN</td>\n",
              "      <td>NaN</td>\n",
              "      <td>NaN</td>\n",
              "      <td>NaN</td>\n",
              "      <td>NaN</td>\n",
              "      <td>1257.0</td>\n",
              "      <td>456936.0</td>\n",
              "      <td>30.743</td>\n",
              "      <td>0.085</td>\n",
              "      <td>1964.0</td>\n",
              "      <td>0.132</td>\n",
              "      <td>0.027</td>\n",
              "      <td>37.7</td>\n",
              "      <td>tests performed</td>\n",
              "      <td>223492.0</td>\n",
              "      <td>194594.0</td>\n",
              "      <td>28898.0</td>\n",
              "      <td>759.0</td>\n",
              "      <td>12085.0</td>\n",
              "      <td>1.50</td>\n",
              "      <td>1.31</td>\n",
              "      <td>0.19</td>\n",
              "      <td>813.0</td>\n",
              "      <td>NaN</td>\n",
              "      <td>14862927.0</td>\n",
              "      <td>42.729</td>\n",
              "      <td>19.6</td>\n",
              "      <td>2.822</td>\n",
              "      <td>1.882</td>\n",
              "      <td>1899.775</td>\n",
              "      <td>21.4</td>\n",
              "      <td>307.846</td>\n",
              "      <td>1.82</td>\n",
              "      <td>1.6</td>\n",
              "      <td>30.7</td>\n",
              "      <td>36.791</td>\n",
              "      <td>1.7</td>\n",
              "      <td>61.49</td>\n",
              "      <td>0.571</td>\n",
              "    </tr>\n",
              "    <tr>\n",
              "      <th>81435</th>\n",
              "      <td>ZWE</td>\n",
              "      <td>Africa</td>\n",
              "      <td>Zimbabwe</td>\n",
              "      <td>2021-04-12</td>\n",
              "      <td>37307.0</td>\n",
              "      <td>19.0</td>\n",
              "      <td>53.286</td>\n",
              "      <td>1542.0</td>\n",
              "      <td>4.0</td>\n",
              "      <td>2.429</td>\n",
              "      <td>2510.071</td>\n",
              "      <td>1.278</td>\n",
              "      <td>3.585</td>\n",
              "      <td>103.748</td>\n",
              "      <td>0.269</td>\n",
              "      <td>0.163</td>\n",
              "      <td>1.47</td>\n",
              "      <td>NaN</td>\n",
              "      <td>NaN</td>\n",
              "      <td>NaN</td>\n",
              "      <td>NaN</td>\n",
              "      <td>NaN</td>\n",
              "      <td>NaN</td>\n",
              "      <td>NaN</td>\n",
              "      <td>NaN</td>\n",
              "      <td>1111.0</td>\n",
              "      <td>458047.0</td>\n",
              "      <td>30.818</td>\n",
              "      <td>0.075</td>\n",
              "      <td>1955.0</td>\n",
              "      <td>0.132</td>\n",
              "      <td>0.027</td>\n",
              "      <td>36.7</td>\n",
              "      <td>tests performed</td>\n",
              "      <td>234579.0</td>\n",
              "      <td>205275.0</td>\n",
              "      <td>29304.0</td>\n",
              "      <td>11087.0</td>\n",
              "      <td>12724.0</td>\n",
              "      <td>1.58</td>\n",
              "      <td>1.38</td>\n",
              "      <td>0.20</td>\n",
              "      <td>856.0</td>\n",
              "      <td>NaN</td>\n",
              "      <td>14862927.0</td>\n",
              "      <td>42.729</td>\n",
              "      <td>19.6</td>\n",
              "      <td>2.822</td>\n",
              "      <td>1.882</td>\n",
              "      <td>1899.775</td>\n",
              "      <td>21.4</td>\n",
              "      <td>307.846</td>\n",
              "      <td>1.82</td>\n",
              "      <td>1.6</td>\n",
              "      <td>30.7</td>\n",
              "      <td>36.791</td>\n",
              "      <td>1.7</td>\n",
              "      <td>61.49</td>\n",
              "      <td>0.571</td>\n",
              "    </tr>\n",
              "    <tr>\n",
              "      <th>81436</th>\n",
              "      <td>ZWE</td>\n",
              "      <td>Africa</td>\n",
              "      <td>Zimbabwe</td>\n",
              "      <td>2021-04-13</td>\n",
              "      <td>37330.0</td>\n",
              "      <td>23.0</td>\n",
              "      <td>52.000</td>\n",
              "      <td>1543.0</td>\n",
              "      <td>1.0</td>\n",
              "      <td>1.714</td>\n",
              "      <td>2511.618</td>\n",
              "      <td>1.547</td>\n",
              "      <td>3.499</td>\n",
              "      <td>103.815</td>\n",
              "      <td>0.067</td>\n",
              "      <td>0.115</td>\n",
              "      <td>NaN</td>\n",
              "      <td>NaN</td>\n",
              "      <td>NaN</td>\n",
              "      <td>NaN</td>\n",
              "      <td>NaN</td>\n",
              "      <td>NaN</td>\n",
              "      <td>NaN</td>\n",
              "      <td>NaN</td>\n",
              "      <td>NaN</td>\n",
              "      <td>NaN</td>\n",
              "      <td>NaN</td>\n",
              "      <td>NaN</td>\n",
              "      <td>NaN</td>\n",
              "      <td>NaN</td>\n",
              "      <td>NaN</td>\n",
              "      <td>NaN</td>\n",
              "      <td>NaN</td>\n",
              "      <td>NaN</td>\n",
              "      <td>NaN</td>\n",
              "      <td>NaN</td>\n",
              "      <td>NaN</td>\n",
              "      <td>NaN</td>\n",
              "      <td>NaN</td>\n",
              "      <td>NaN</td>\n",
              "      <td>NaN</td>\n",
              "      <td>NaN</td>\n",
              "      <td>NaN</td>\n",
              "      <td>NaN</td>\n",
              "      <td>14862927.0</td>\n",
              "      <td>42.729</td>\n",
              "      <td>19.6</td>\n",
              "      <td>2.822</td>\n",
              "      <td>1.882</td>\n",
              "      <td>1899.775</td>\n",
              "      <td>21.4</td>\n",
              "      <td>307.846</td>\n",
              "      <td>1.82</td>\n",
              "      <td>1.6</td>\n",
              "      <td>30.7</td>\n",
              "      <td>36.791</td>\n",
              "      <td>1.7</td>\n",
              "      <td>61.49</td>\n",
              "      <td>0.571</td>\n",
              "    </tr>\n",
              "  </tbody>\n",
              "</table>\n",
              "<p>81437 rows × 59 columns</p>\n",
              "</div>"
            ],
            "text/plain": [
              "      iso_code continent  ... life_expectancy human_development_index\n",
              "0          AFG      Asia  ...           64.83                   0.511\n",
              "1          AFG      Asia  ...           64.83                   0.511\n",
              "2          AFG      Asia  ...           64.83                   0.511\n",
              "3          AFG      Asia  ...           64.83                   0.511\n",
              "4          AFG      Asia  ...           64.83                   0.511\n",
              "...        ...       ...  ...             ...                     ...\n",
              "81432      ZWE    Africa  ...           61.49                   0.571\n",
              "81433      ZWE    Africa  ...           61.49                   0.571\n",
              "81434      ZWE    Africa  ...           61.49                   0.571\n",
              "81435      ZWE    Africa  ...           61.49                   0.571\n",
              "81436      ZWE    Africa  ...           61.49                   0.571\n",
              "\n",
              "[81437 rows x 59 columns]"
            ]
          },
          "metadata": {
            "tags": []
          },
          "execution_count": 2
        }
      ]
    },
    {
      "cell_type": "code",
      "metadata": {
        "id": "9HIari93eudU"
      },
      "source": [
        "df = df.mask(df.eq(0)).dropna(how='all', axis=1)\n",
        "df = df[df['continent'].notna()]"
      ],
      "execution_count": null,
      "outputs": []
    },
    {
      "cell_type": "markdown",
      "metadata": {
        "id": "jRxYyS6Ae4w_"
      },
      "source": [
        "Checking for Null Values"
      ]
    },
    {
      "cell_type": "code",
      "metadata": {
        "colab": {
          "base_uri": "https://localhost:8080/"
        },
        "id": "-HOPQOAAe1oP",
        "outputId": "42b8c0b4-5cc1-4475-c45b-30655766c18c"
      },
      "source": [
        "df.isnull().sum()"
      ],
      "execution_count": null,
      "outputs": [
        {
          "output_type": "execute_result",
          "data": {
            "text/plain": [
              "iso_code                                     0\n",
              "continent                                    0\n",
              "location                                     0\n",
              "date                                         0\n",
              "total_cases                               1743\n",
              "new_cases                                18260\n",
              "new_cases_smoothed                        7566\n",
              "total_deaths                             11097\n",
              "new_deaths                               38684\n",
              "new_deaths_smoothed                      24060\n",
              "total_cases_per_million                   1743\n",
              "new_cases_per_million                    18260\n",
              "new_cases_smoothed_per_million            7578\n",
              "total_deaths_per_million                 11097\n",
              "new_deaths_per_million                   38684\n",
              "new_deaths_smoothed_per_million          24208\n",
              "reproduction_rate                        12685\n",
              "icu_patients                             69441\n",
              "icu_patients_per_million                 69441\n",
              "hosp_patients                            67504\n",
              "hosp_patients_per_million                67504\n",
              "weekly_icu_admissions                    76748\n",
              "weekly_icu_admissions_per_million        76748\n",
              "weekly_hosp_admissions                   76253\n",
              "weekly_hosp_admissions_per_million       76253\n",
              "new_tests                                40188\n",
              "total_tests                              40468\n",
              "total_tests_per_thousand                 40529\n",
              "new_tests_per_thousand                   40449\n",
              "new_tests_smoothed                       34922\n",
              "new_tests_smoothed_per_thousand          35247\n",
              "positive_rate                            37441\n",
              "tests_per_case                           36790\n",
              "tests_units                              33428\n",
              "total_vaccinations                       71102\n",
              "people_vaccinated                        71766\n",
              "people_fully_vaccinated                  73414\n",
              "new_vaccinations                         72193\n",
              "new_vaccinations_smoothed                66595\n",
              "total_vaccinations_per_hundred           71164\n",
              "people_vaccinated_per_hundred            71817\n",
              "people_fully_vaccinated_per_hundred      73537\n",
              "new_vaccinations_smoothed_per_million    66599\n",
              "stringency_index                          8458\n",
              "population                                  71\n",
              "population_density                        2046\n",
              "median_age                                4403\n",
              "aged_65_older                             5245\n",
              "aged_70_older                             4816\n",
              "gdp_per_capita                            4088\n",
              "extreme_poverty                          27588\n",
              "cardiovasc_death_rate                     3457\n",
              "diabetes_prevalence                       2454\n",
              "female_smokers                           19525\n",
              "male_smokers                             20387\n",
              "handwashing_facilities                   40535\n",
              "hospital_beds_per_thousand                9914\n",
              "life_expectancy                            615\n",
              "human_development_index                   3559\n",
              "dtype: int64"
            ]
          },
          "metadata": {
            "tags": []
          },
          "execution_count": 4
        }
      ]
    },
    {
      "cell_type": "markdown",
      "metadata": {
        "id": "l-wIpbAZfQIb"
      },
      "source": [
        "Cleaning data taking required columns"
      ]
    },
    {
      "cell_type": "code",
      "metadata": {
        "colab": {
          "base_uri": "https://localhost:8080/",
          "height": 609
        },
        "id": "sTMLEzuafBST",
        "outputId": "8d72251b-f494-4f2b-98fe-ed32f16bfe3e"
      },
      "source": [
        "df_new=df[['location','continent','date','total_cases','new_cases','total_deaths','new_deaths']]\n",
        "df_new"
      ],
      "execution_count": null,
      "outputs": [
        {
          "output_type": "execute_result",
          "data": {
            "text/html": [
              "<div>\n",
              "<style scoped>\n",
              "    .dataframe tbody tr th:only-of-type {\n",
              "        vertical-align: middle;\n",
              "    }\n",
              "\n",
              "    .dataframe tbody tr th {\n",
              "        vertical-align: top;\n",
              "    }\n",
              "\n",
              "    .dataframe thead th {\n",
              "        text-align: right;\n",
              "    }\n",
              "</style>\n",
              "<table border=\"1\" class=\"dataframe\">\n",
              "  <thead>\n",
              "    <tr style=\"text-align: right;\">\n",
              "      <th></th>\n",
              "      <th>location</th>\n",
              "      <th>continent</th>\n",
              "      <th>date</th>\n",
              "      <th>total_cases</th>\n",
              "      <th>new_cases</th>\n",
              "      <th>total_deaths</th>\n",
              "      <th>new_deaths</th>\n",
              "    </tr>\n",
              "  </thead>\n",
              "  <tbody>\n",
              "    <tr>\n",
              "      <th>0</th>\n",
              "      <td>Afghanistan</td>\n",
              "      <td>Asia</td>\n",
              "      <td>2020-02-24</td>\n",
              "      <td>1.0</td>\n",
              "      <td>1.0</td>\n",
              "      <td>NaN</td>\n",
              "      <td>NaN</td>\n",
              "    </tr>\n",
              "    <tr>\n",
              "      <th>1</th>\n",
              "      <td>Afghanistan</td>\n",
              "      <td>Asia</td>\n",
              "      <td>2020-02-25</td>\n",
              "      <td>1.0</td>\n",
              "      <td>NaN</td>\n",
              "      <td>NaN</td>\n",
              "      <td>NaN</td>\n",
              "    </tr>\n",
              "    <tr>\n",
              "      <th>2</th>\n",
              "      <td>Afghanistan</td>\n",
              "      <td>Asia</td>\n",
              "      <td>2020-02-26</td>\n",
              "      <td>1.0</td>\n",
              "      <td>NaN</td>\n",
              "      <td>NaN</td>\n",
              "      <td>NaN</td>\n",
              "    </tr>\n",
              "    <tr>\n",
              "      <th>3</th>\n",
              "      <td>Afghanistan</td>\n",
              "      <td>Asia</td>\n",
              "      <td>2020-02-27</td>\n",
              "      <td>1.0</td>\n",
              "      <td>NaN</td>\n",
              "      <td>NaN</td>\n",
              "      <td>NaN</td>\n",
              "    </tr>\n",
              "    <tr>\n",
              "      <th>4</th>\n",
              "      <td>Afghanistan</td>\n",
              "      <td>Asia</td>\n",
              "      <td>2020-02-28</td>\n",
              "      <td>1.0</td>\n",
              "      <td>NaN</td>\n",
              "      <td>NaN</td>\n",
              "      <td>NaN</td>\n",
              "    </tr>\n",
              "    <tr>\n",
              "      <th>...</th>\n",
              "      <td>...</td>\n",
              "      <td>...</td>\n",
              "      <td>...</td>\n",
              "      <td>...</td>\n",
              "      <td>...</td>\n",
              "      <td>...</td>\n",
              "      <td>...</td>\n",
              "    </tr>\n",
              "    <tr>\n",
              "      <th>81432</th>\n",
              "      <td>Zimbabwe</td>\n",
              "      <td>Africa</td>\n",
              "      <td>2021-04-09</td>\n",
              "      <td>37147.0</td>\n",
              "      <td>95.0</td>\n",
              "      <td>1535.0</td>\n",
              "      <td>3.0</td>\n",
              "    </tr>\n",
              "    <tr>\n",
              "      <th>81433</th>\n",
              "      <td>Zimbabwe</td>\n",
              "      <td>Africa</td>\n",
              "      <td>2021-04-10</td>\n",
              "      <td>37273.0</td>\n",
              "      <td>126.0</td>\n",
              "      <td>1538.0</td>\n",
              "      <td>3.0</td>\n",
              "    </tr>\n",
              "    <tr>\n",
              "      <th>81434</th>\n",
              "      <td>Zimbabwe</td>\n",
              "      <td>Africa</td>\n",
              "      <td>2021-04-11</td>\n",
              "      <td>37288.0</td>\n",
              "      <td>15.0</td>\n",
              "      <td>1538.0</td>\n",
              "      <td>NaN</td>\n",
              "    </tr>\n",
              "    <tr>\n",
              "      <th>81435</th>\n",
              "      <td>Zimbabwe</td>\n",
              "      <td>Africa</td>\n",
              "      <td>2021-04-12</td>\n",
              "      <td>37307.0</td>\n",
              "      <td>19.0</td>\n",
              "      <td>1542.0</td>\n",
              "      <td>4.0</td>\n",
              "    </tr>\n",
              "    <tr>\n",
              "      <th>81436</th>\n",
              "      <td>Zimbabwe</td>\n",
              "      <td>Africa</td>\n",
              "      <td>2021-04-13</td>\n",
              "      <td>37330.0</td>\n",
              "      <td>23.0</td>\n",
              "      <td>1543.0</td>\n",
              "      <td>1.0</td>\n",
              "    </tr>\n",
              "  </tbody>\n",
              "</table>\n",
              "<p>77479 rows × 7 columns</p>\n",
              "</div>"
            ],
            "text/plain": [
              "          location continent        date  ...  new_cases  total_deaths  new_deaths\n",
              "0      Afghanistan      Asia  2020-02-24  ...        1.0           NaN         NaN\n",
              "1      Afghanistan      Asia  2020-02-25  ...        NaN           NaN         NaN\n",
              "2      Afghanistan      Asia  2020-02-26  ...        NaN           NaN         NaN\n",
              "3      Afghanistan      Asia  2020-02-27  ...        NaN           NaN         NaN\n",
              "4      Afghanistan      Asia  2020-02-28  ...        NaN           NaN         NaN\n",
              "...            ...       ...         ...  ...        ...           ...         ...\n",
              "81432     Zimbabwe    Africa  2021-04-09  ...       95.0        1535.0         3.0\n",
              "81433     Zimbabwe    Africa  2021-04-10  ...      126.0        1538.0         3.0\n",
              "81434     Zimbabwe    Africa  2021-04-11  ...       15.0        1538.0         NaN\n",
              "81435     Zimbabwe    Africa  2021-04-12  ...       19.0        1542.0         4.0\n",
              "81436     Zimbabwe    Africa  2021-04-13  ...       23.0        1543.0         1.0\n",
              "\n",
              "[77479 rows x 7 columns]"
            ]
          },
          "metadata": {
            "tags": []
          },
          "execution_count": 5
        }
      ]
    },
    {
      "cell_type": "code",
      "metadata": {
        "colab": {
          "base_uri": "https://localhost:8080/"
        },
        "id": "dc2_wfJ5fbeO",
        "outputId": "39fcabc5-7678-4586-d573-8d64b7333f99"
      },
      "source": [
        "df_new.isnull().sum()"
      ],
      "execution_count": null,
      "outputs": [
        {
          "output_type": "execute_result",
          "data": {
            "text/plain": [
              "location            0\n",
              "continent           0\n",
              "date                0\n",
              "total_cases      1743\n",
              "new_cases       18260\n",
              "total_deaths    11097\n",
              "new_deaths      38684\n",
              "dtype: int64"
            ]
          },
          "metadata": {
            "tags": []
          },
          "execution_count": 6
        }
      ]
    },
    {
      "cell_type": "markdown",
      "metadata": {
        "id": "lMBMTaNLfo53"
      },
      "source": [
        "2 dataframes\n",
        "\n",
        "1. df1 - where null values are dropped\n",
        "2. df2 - where null values are filled with mean values"
      ]
    },
    {
      "cell_type": "code",
      "metadata": {
        "id": "3hXY7wqcfjSD"
      },
      "source": [
        "df1=df_new.dropna()\n",
        "df2=df_new.fillna(df1.mean())"
      ],
      "execution_count": null,
      "outputs": []
    },
    {
      "cell_type": "code",
      "metadata": {
        "colab": {
          "base_uri": "https://localhost:8080/"
        },
        "id": "Y3QC7GWUf1Y8",
        "outputId": "4dbf84a4-69e9-457f-fdb1-8642140803e3"
      },
      "source": [
        "df1.isnull().sum()\n",
        "df2.isnull().sum()"
      ],
      "execution_count": null,
      "outputs": [
        {
          "output_type": "execute_result",
          "data": {
            "text/plain": [
              "location        0\n",
              "continent       0\n",
              "date            0\n",
              "total_cases     0\n",
              "new_cases       0\n",
              "total_deaths    0\n",
              "new_deaths      0\n",
              "dtype: int64"
            ]
          },
          "metadata": {
            "tags": []
          },
          "execution_count": 8
        }
      ]
    },
    {
      "cell_type": "markdown",
      "metadata": {
        "id": "rPaMUfsegyTg"
      },
      "source": [
        "Renaming and changing to required format"
      ]
    },
    {
      "cell_type": "code",
      "metadata": {
        "id": "tt-3sp5yf5qc"
      },
      "source": [
        "df1 = df1.rename(columns={'date':'ds','total_cases':'y'})\n",
        "df2 = df2.rename(columns={'date':'ds','total_cases':'y'})\n",
        "df1['ds']=pd.to_datetime(df1['ds'])\n",
        "df2['ds']=pd.to_datetime(df2['ds'])\n",
        "df1['y'] = df1['y'].astype(int)\n",
        "df2['y'] = df2['y'].astype(int)\n",
        "\n"
      ],
      "execution_count": null,
      "outputs": []
    },
    {
      "cell_type": "markdown",
      "metadata": {
        "id": "KhIqVCchiM6G"
      },
      "source": [
        ""
      ]
    },
    {
      "cell_type": "code",
      "metadata": {
        "id": "yNYh-ejDgObI"
      },
      "source": [
        "import matplotlib.pyplot as plt"
      ],
      "execution_count": null,
      "outputs": []
    },
    {
      "cell_type": "code",
      "metadata": {
        "colab": {
          "base_uri": "https://localhost:8080/",
          "height": 502
        },
        "id": "N11WDMMZhPQj",
        "outputId": "36ca0ca7-b520-4f50-cfb2-8fc086667027"
      },
      "source": [
        "plt.figure(figsize=(20,15))\n",
        "plt.bar(df1['ds'],df1['y'])\n",
        "plt.xticks(rotation = -90)\n",
        "plt.show()"
      ],
      "execution_count": null,
      "outputs": [
        {
          "output_type": "display_data",
          "data": {
            "image/png": "[encoded data removed]",
            "text/plain": [
              "<Figure size 1440x1080 with 1 Axes>"
            ]
          },
          "metadata": {
            "tags": [],
            "needs_background": "light"
          }
        }
      ]
    },
    {
      "cell_type": "markdown",
      "metadata": {
        "id": "QDrEuCEPlbmQ"
      },
      "source": [
        "Using FB prophet library for forcasting\n"
      ]
    },
    {
      "cell_type": "code",
      "metadata": {
        "colab": {
          "base_uri": "https://localhost:8080/"
        },
        "id": "OODbmIipikaQ",
        "outputId": "04f7d877-a419-4c85-9963-8eac91fd77e1"
      },
      "source": [
        "from fbprophet import Prophet\n",
        "\n",
        "model1 = Prophet(changepoint_prior_scale=1)\n",
        "model1.fit(df1)\n",
        "forecast1 = model1.make_future_dataframe(periods=30,freq='D')\n",
        "forecast1 = model1.predict(forecast1)"
      ],
      "execution_count": null,
      "outputs": [
        {
          "output_type": "stream",
          "text": [
            "INFO:fbprophet:Disabling yearly seasonality. Run prophet with yearly_seasonality=True to override this.\n",
            "INFO:fbprophet:Disabling daily seasonality. Run prophet with daily_seasonality=True to override this.\n"
          ],
          "name": "stderr"
        }
      ]
    },
    {
      "cell_type": "markdown",
      "metadata": {
        "id": "-5pkT1D3lx9g"
      },
      "source": [
        "Creating model"
      ]
    },
    {
      "cell_type": "code",
      "metadata": {
        "colab": {
          "base_uri": "https://localhost:8080/"
        },
        "id": "Mdz3Gh6FluAE",
        "outputId": "cabf738e-11eb-4c4d-f133-6db648e4b782"
      },
      "source": [
        "from fbprophet import Prophet\n",
        "\n",
        "model2 = Prophet(changepoint_prior_scale=1)\n",
        "model2.fit(df2)\n",
        "forecast2 = model2.make_future_dataframe(periods=30,freq='D')\n",
        "forecast2 = model2.predict(forecast2)"
      ],
      "execution_count": null,
      "outputs": [
        {
          "output_type": "stream",
          "text": [
            "INFO:fbprophet:Disabling yearly seasonality. Run prophet with yearly_seasonality=True to override this.\n",
            "INFO:fbprophet:Disabling daily seasonality. Run prophet with daily_seasonality=True to override this.\n"
          ],
          "name": "stderr"
        }
      ]
    },
    {
      "cell_type": "code",
      "metadata": {
        "colab": {
          "base_uri": "https://localhost:8080/",
          "height": 204
        },
        "id": "InopuKIGl7bN",
        "outputId": "ce638bf2-784f-48d3-eca2-f1fbc6fd6e6f"
      },
      "source": [
        "forecast1[['ds','yhat','yhat_lower','yhat_upper']].head()"
      ],
      "execution_count": null,
      "outputs": [
        {
          "output_type": "execute_result",
          "data": {
            "text/html": [
              "<div>\n",
              "<style scoped>\n",
              "    .dataframe tbody tr th:only-of-type {\n",
              "        vertical-align: middle;\n",
              "    }\n",
              "\n",
              "    .dataframe tbody tr th {\n",
              "        vertical-align: top;\n",
              "    }\n",
              "\n",
              "    .dataframe thead th {\n",
              "        text-align: right;\n",
              "    }\n",
              "</style>\n",
              "<table border=\"1\" class=\"dataframe\">\n",
              "  <thead>\n",
              "    <tr style=\"text-align: right;\">\n",
              "      <th></th>\n",
              "      <th>ds</th>\n",
              "      <th>yhat</th>\n",
              "      <th>yhat_lower</th>\n",
              "      <th>yhat_upper</th>\n",
              "    </tr>\n",
              "  </thead>\n",
              "  <tbody>\n",
              "    <tr>\n",
              "      <th>0</th>\n",
              "      <td>2020-01-23</td>\n",
              "      <td>-32635.758724</td>\n",
              "      <td>-2.425512e+06</td>\n",
              "      <td>2.468844e+06</td>\n",
              "    </tr>\n",
              "    <tr>\n",
              "      <th>1</th>\n",
              "      <td>2020-01-24</td>\n",
              "      <td>-24295.422321</td>\n",
              "      <td>-2.489563e+06</td>\n",
              "      <td>2.227451e+06</td>\n",
              "    </tr>\n",
              "    <tr>\n",
              "      <th>2</th>\n",
              "      <td>2020-01-25</td>\n",
              "      <td>-2559.265727</td>\n",
              "      <td>-2.348723e+06</td>\n",
              "      <td>2.273505e+06</td>\n",
              "    </tr>\n",
              "    <tr>\n",
              "      <th>3</th>\n",
              "      <td>2020-01-26</td>\n",
              "      <td>-6333.094230</td>\n",
              "      <td>-2.312062e+06</td>\n",
              "      <td>2.318599e+06</td>\n",
              "    </tr>\n",
              "    <tr>\n",
              "      <th>4</th>\n",
              "      <td>2020-01-27</td>\n",
              "      <td>-29831.944386</td>\n",
              "      <td>-2.425426e+06</td>\n",
              "      <td>2.417768e+06</td>\n",
              "    </tr>\n",
              "  </tbody>\n",
              "</table>\n",
              "</div>"
            ],
            "text/plain": [
              "          ds          yhat    yhat_lower    yhat_upper\n",
              "0 2020-01-23 -32635.758724 -2.425512e+06  2.468844e+06\n",
              "1 2020-01-24 -24295.422321 -2.489563e+06  2.227451e+06\n",
              "2 2020-01-25  -2559.265727 -2.348723e+06  2.273505e+06\n",
              "3 2020-01-26  -6333.094230 -2.312062e+06  2.318599e+06\n",
              "4 2020-01-27 -29831.944386 -2.425426e+06  2.417768e+06"
            ]
          },
          "metadata": {
            "tags": []
          },
          "execution_count": 18
        }
      ]
    },
    {
      "cell_type": "code",
      "metadata": {
        "colab": {
          "base_uri": "https://localhost:8080/",
          "height": 204
        },
        "id": "V8kmrlLWmAyN",
        "outputId": "bf6f6611-b777-4056-894a-cbe96bdc0aaf"
      },
      "source": [
        "forecast2[['ds','yhat','yhat_lower','yhat_upper']].head()"
      ],
      "execution_count": null,
      "outputs": [
        {
          "output_type": "execute_result",
          "data": {
            "text/html": [
              "<div>\n",
              "<style scoped>\n",
              "    .dataframe tbody tr th:only-of-type {\n",
              "        vertical-align: middle;\n",
              "    }\n",
              "\n",
              "    .dataframe tbody tr th {\n",
              "        vertical-align: top;\n",
              "    }\n",
              "\n",
              "    .dataframe thead th {\n",
              "        text-align: right;\n",
              "    }\n",
              "</style>\n",
              "<table border=\"1\" class=\"dataframe\">\n",
              "  <thead>\n",
              "    <tr style=\"text-align: right;\">\n",
              "      <th></th>\n",
              "      <th>ds</th>\n",
              "      <th>yhat</th>\n",
              "      <th>yhat_lower</th>\n",
              "      <th>yhat_upper</th>\n",
              "    </tr>\n",
              "  </thead>\n",
              "  <tbody>\n",
              "    <tr>\n",
              "      <th>0</th>\n",
              "      <td>2020-01-01</td>\n",
              "      <td>258215.072562</td>\n",
              "      <td>-1.607673e+06</td>\n",
              "      <td>2.006506e+06</td>\n",
              "    </tr>\n",
              "    <tr>\n",
              "      <th>1</th>\n",
              "      <td>2020-01-02</td>\n",
              "      <td>255446.307628</td>\n",
              "      <td>-1.357352e+06</td>\n",
              "      <td>2.047914e+06</td>\n",
              "    </tr>\n",
              "    <tr>\n",
              "      <th>2</th>\n",
              "      <td>2020-01-03</td>\n",
              "      <td>252414.389944</td>\n",
              "      <td>-1.539313e+06</td>\n",
              "      <td>1.974851e+06</td>\n",
              "    </tr>\n",
              "    <tr>\n",
              "      <th>3</th>\n",
              "      <td>2020-01-04</td>\n",
              "      <td>249479.049903</td>\n",
              "      <td>-1.479706e+06</td>\n",
              "      <td>2.026349e+06</td>\n",
              "    </tr>\n",
              "    <tr>\n",
              "      <th>4</th>\n",
              "      <td>2020-01-05</td>\n",
              "      <td>246863.919796</td>\n",
              "      <td>-1.514285e+06</td>\n",
              "      <td>1.965307e+06</td>\n",
              "    </tr>\n",
              "  </tbody>\n",
              "</table>\n",
              "</div>"
            ],
            "text/plain": [
              "          ds           yhat    yhat_lower    yhat_upper\n",
              "0 2020-01-01  258215.072562 -1.607673e+06  2.006506e+06\n",
              "1 2020-01-02  255446.307628 -1.357352e+06  2.047914e+06\n",
              "2 2020-01-03  252414.389944 -1.539313e+06  1.974851e+06\n",
              "3 2020-01-04  249479.049903 -1.479706e+06  2.026349e+06\n",
              "4 2020-01-05  246863.919796 -1.514285e+06  1.965307e+06"
            ]
          },
          "metadata": {
            "tags": []
          },
          "execution_count": 19
        }
      ]
    },
    {
      "cell_type": "code",
      "metadata": {
        "colab": {
          "base_uri": "https://localhost:8080/",
          "height": 267
        },
        "id": "OqxrXe6emEQu",
        "outputId": "c3e6fa49-1394-4f39-954d-24009f1ed024"
      },
      "source": [
        "import matplotlib.pyplot as plt\n",
        "\n",
        "model1.plot(forecast1,figsize=(25,10));"
      ],
      "execution_count": null,
      "outputs": [
        {
          "output_type": "display_data",
          "data": {
            "image/png": "[encoded data removed]",
            "text/plain": [
              "<Figure size 1800x720 with 1 Axes>"
            ]
          },
          "metadata": {
            "tags": []
          }
        }
      ]
    },
    {
      "cell_type": "code",
      "metadata": {
        "colab": {
          "base_uri": "https://localhost:8080/",
          "height": 267
        },
        "id": "TO_IvbVRmGMg",
        "outputId": "c26b4d3e-b857-4e8b-dcdb-77ae55524f17"
      },
      "source": [
        "model2.plot(forecast2,figsize=(25,10));"
      ],
      "execution_count": null,
      "outputs": [
        {
          "output_type": "display_data",
          "data": {
            "image/png": "[encoded data removed]",
            "text/plain": [
              "<Figure size 1800x720 with 1 Axes>"
            ]
          },
          "metadata": {
            "tags": []
          }
        }
      ]
    },
    {
      "cell_type": "code",
      "metadata": {
        "id": "chaUsazKq_5s"
      },
      "source": [
        "#Both the graphs are almost similar"
      ],
      "execution_count": null,
      "outputs": []
    },
    {
      "cell_type": "markdown",
      "metadata": {
        "id": "7zx2alBNntQR"
      },
      "source": [
        "#QUESTIONS TO BE ANSWERED"
      ]
    },
    {
      "cell_type": "code",
      "metadata": {
        "id": "41bh-oL8nGSO"
      },
      "source": [
        "init_date = \"2021-04-13\"\n",
        "filtered_dates = df_new[\"date\"] >= init_date\n",
        "\n"
      ],
      "execution_count": null,
      "outputs": []
    },
    {
      "cell_type": "code",
      "metadata": {
        "colab": {
          "base_uri": "https://localhost:8080/",
          "height": 609
        },
        "id": "Gidy36CRoHoH",
        "outputId": "f71f580d-6976-4b8e-ad6a-69a6d795cca6"
      },
      "source": [
        "new_df = df_new.loc[filtered_dates]\n",
        "new_df\n"
      ],
      "execution_count": null,
      "outputs": [
        {
          "output_type": "execute_result",
          "data": {
            "text/html": [
              "<div>\n",
              "<style scoped>\n",
              "    .dataframe tbody tr th:only-of-type {\n",
              "        vertical-align: middle;\n",
              "    }\n",
              "\n",
              "    .dataframe tbody tr th {\n",
              "        vertical-align: top;\n",
              "    }\n",
              "\n",
              "    .dataframe thead th {\n",
              "        text-align: right;\n",
              "    }\n",
              "</style>\n",
              "<table border=\"1\" class=\"dataframe\">\n",
              "  <thead>\n",
              "    <tr style=\"text-align: right;\">\n",
              "      <th></th>\n",
              "      <th>location</th>\n",
              "      <th>continent</th>\n",
              "      <th>date</th>\n",
              "      <th>total_cases</th>\n",
              "      <th>new_cases</th>\n",
              "      <th>total_deaths</th>\n",
              "      <th>new_deaths</th>\n",
              "    </tr>\n",
              "  </thead>\n",
              "  <tbody>\n",
              "    <tr>\n",
              "      <th>414</th>\n",
              "      <td>Afghanistan</td>\n",
              "      <td>Asia</td>\n",
              "      <td>2021-04-13</td>\n",
              "      <td>57364.0</td>\n",
              "      <td>122.0</td>\n",
              "      <td>2529.0</td>\n",
              "      <td>NaN</td>\n",
              "    </tr>\n",
              "    <tr>\n",
              "      <th>1254</th>\n",
              "      <td>Albania</td>\n",
              "      <td>Europe</td>\n",
              "      <td>2021-04-13</td>\n",
              "      <td>128752.0</td>\n",
              "      <td>234.0</td>\n",
              "      <td>2326.0</td>\n",
              "      <td>5.0</td>\n",
              "    </tr>\n",
              "    <tr>\n",
              "      <th>1668</th>\n",
              "      <td>Algeria</td>\n",
              "      <td>Africa</td>\n",
              "      <td>2021-04-13</td>\n",
              "      <td>118799.0</td>\n",
              "      <td>154.0</td>\n",
              "      <td>3137.0</td>\n",
              "      <td>3.0</td>\n",
              "    </tr>\n",
              "    <tr>\n",
              "      <th>2076</th>\n",
              "      <td>Andorra</td>\n",
              "      <td>Europe</td>\n",
              "      <td>2021-04-13</td>\n",
              "      <td>12614.0</td>\n",
              "      <td>33.0</td>\n",
              "      <td>121.0</td>\n",
              "      <td>NaN</td>\n",
              "    </tr>\n",
              "    <tr>\n",
              "      <th>2466</th>\n",
              "      <td>Angola</td>\n",
              "      <td>Africa</td>\n",
              "      <td>2021-04-13</td>\n",
              "      <td>23697.0</td>\n",
              "      <td>148.0</td>\n",
              "      <td>554.0</td>\n",
              "      <td>NaN</td>\n",
              "    </tr>\n",
              "    <tr>\n",
              "      <th>...</th>\n",
              "      <td>...</td>\n",
              "      <td>...</td>\n",
              "      <td>...</td>\n",
              "      <td>...</td>\n",
              "      <td>...</td>\n",
              "      <td>...</td>\n",
              "      <td>...</td>\n",
              "    </tr>\n",
              "    <tr>\n",
              "      <th>79390</th>\n",
              "      <td>Venezuela</td>\n",
              "      <td>South America</td>\n",
              "      <td>2021-04-13</td>\n",
              "      <td>176972.0</td>\n",
              "      <td>1160.0</td>\n",
              "      <td>1815.0</td>\n",
              "      <td>20.0</td>\n",
              "    </tr>\n",
              "    <tr>\n",
              "      <th>79837</th>\n",
              "      <td>Vietnam</td>\n",
              "      <td>Asia</td>\n",
              "      <td>2021-04-13</td>\n",
              "      <td>2714.0</td>\n",
              "      <td>9.0</td>\n",
              "      <td>35.0</td>\n",
              "      <td>NaN</td>\n",
              "    </tr>\n",
              "    <tr>\n",
              "      <th>80654</th>\n",
              "      <td>Yemen</td>\n",
              "      <td>Asia</td>\n",
              "      <td>2021-04-13</td>\n",
              "      <td>5507.0</td>\n",
              "      <td>61.0</td>\n",
              "      <td>1073.0</td>\n",
              "      <td>5.0</td>\n",
              "    </tr>\n",
              "    <tr>\n",
              "      <th>81046</th>\n",
              "      <td>Zambia</td>\n",
              "      <td>Africa</td>\n",
              "      <td>2021-04-13</td>\n",
              "      <td>90218.0</td>\n",
              "      <td>154.0</td>\n",
              "      <td>1229.0</td>\n",
              "      <td>2.0</td>\n",
              "    </tr>\n",
              "    <tr>\n",
              "      <th>81436</th>\n",
              "      <td>Zimbabwe</td>\n",
              "      <td>Africa</td>\n",
              "      <td>2021-04-13</td>\n",
              "      <td>37330.0</td>\n",
              "      <td>23.0</td>\n",
              "      <td>1543.0</td>\n",
              "      <td>1.0</td>\n",
              "    </tr>\n",
              "  </tbody>\n",
              "</table>\n",
              "<p>196 rows × 7 columns</p>\n",
              "</div>"
            ],
            "text/plain": [
              "          location      continent  ... total_deaths  new_deaths\n",
              "414    Afghanistan           Asia  ...       2529.0         NaN\n",
              "1254       Albania         Europe  ...       2326.0         5.0\n",
              "1668       Algeria         Africa  ...       3137.0         3.0\n",
              "2076       Andorra         Europe  ...        121.0         NaN\n",
              "2466        Angola         Africa  ...        554.0         NaN\n",
              "...            ...            ...  ...          ...         ...\n",
              "79390    Venezuela  South America  ...       1815.0        20.0\n",
              "79837      Vietnam           Asia  ...         35.0         NaN\n",
              "80654        Yemen           Asia  ...       1073.0         5.0\n",
              "81046       Zambia         Africa  ...       1229.0         2.0\n",
              "81436     Zimbabwe         Africa  ...       1543.0         1.0\n",
              "\n",
              "[196 rows x 7 columns]"
            ]
          },
          "metadata": {
            "tags": []
          },
          "execution_count": 37
        }
      ]
    },
    {
      "cell_type": "code",
      "metadata": {
        "colab": {
          "base_uri": "https://localhost:8080/",
          "height": 609
        },
        "id": "ssb7xDJRoLRK",
        "outputId": "bdfaabf9-e26e-4b11-ef68-713eec24c9f7"
      },
      "source": [
        "new_df = new_df.fillna(0)\n",
        "new_df"
      ],
      "execution_count": null,
      "outputs": [
        {
          "output_type": "execute_result",
          "data": {
            "text/html": [
              "<div>\n",
              "<style scoped>\n",
              "    .dataframe tbody tr th:only-of-type {\n",
              "        vertical-align: middle;\n",
              "    }\n",
              "\n",
              "    .dataframe tbody tr th {\n",
              "        vertical-align: top;\n",
              "    }\n",
              "\n",
              "    .dataframe thead th {\n",
              "        text-align: right;\n",
              "    }\n",
              "</style>\n",
              "<table border=\"1\" class=\"dataframe\">\n",
              "  <thead>\n",
              "    <tr style=\"text-align: right;\">\n",
              "      <th></th>\n",
              "      <th>location</th>\n",
              "      <th>continent</th>\n",
              "      <th>date</th>\n",
              "      <th>total_cases</th>\n",
              "      <th>new_cases</th>\n",
              "      <th>total_deaths</th>\n",
              "      <th>new_deaths</th>\n",
              "    </tr>\n",
              "  </thead>\n",
              "  <tbody>\n",
              "    <tr>\n",
              "      <th>414</th>\n",
              "      <td>Afghanistan</td>\n",
              "      <td>Asia</td>\n",
              "      <td>2021-04-13</td>\n",
              "      <td>57364.0</td>\n",
              "      <td>122.0</td>\n",
              "      <td>2529.0</td>\n",
              "      <td>0.0</td>\n",
              "    </tr>\n",
              "    <tr>\n",
              "      <th>1254</th>\n",
              "      <td>Albania</td>\n",
              "      <td>Europe</td>\n",
              "      <td>2021-04-13</td>\n",
              "      <td>128752.0</td>\n",
              "      <td>234.0</td>\n",
              "      <td>2326.0</td>\n",
              "      <td>5.0</td>\n",
              "    </tr>\n",
              "    <tr>\n",
              "      <th>1668</th>\n",
              "      <td>Algeria</td>\n",
              "      <td>Africa</td>\n",
              "      <td>2021-04-13</td>\n",
              "      <td>118799.0</td>\n",
              "      <td>154.0</td>\n",
              "      <td>3137.0</td>\n",
              "      <td>3.0</td>\n",
              "    </tr>\n",
              "    <tr>\n",
              "      <th>2076</th>\n",
              "      <td>Andorra</td>\n",
              "      <td>Europe</td>\n",
              "      <td>2021-04-13</td>\n",
              "      <td>12614.0</td>\n",
              "      <td>33.0</td>\n",
              "      <td>121.0</td>\n",
              "      <td>0.0</td>\n",
              "    </tr>\n",
              "    <tr>\n",
              "      <th>2466</th>\n",
              "      <td>Angola</td>\n",
              "      <td>Africa</td>\n",
              "      <td>2021-04-13</td>\n",
              "      <td>23697.0</td>\n",
              "      <td>148.0</td>\n",
              "      <td>554.0</td>\n",
              "      <td>0.0</td>\n",
              "    </tr>\n",
              "    <tr>\n",
              "      <th>...</th>\n",
              "      <td>...</td>\n",
              "      <td>...</td>\n",
              "      <td>...</td>\n",
              "      <td>...</td>\n",
              "      <td>...</td>\n",
              "      <td>...</td>\n",
              "      <td>...</td>\n",
              "    </tr>\n",
              "    <tr>\n",
              "      <th>79390</th>\n",
              "      <td>Venezuela</td>\n",
              "      <td>South America</td>\n",
              "      <td>2021-04-13</td>\n",
              "      <td>176972.0</td>\n",
              "      <td>1160.0</td>\n",
              "      <td>1815.0</td>\n",
              "      <td>20.0</td>\n",
              "    </tr>\n",
              "    <tr>\n",
              "      <th>79837</th>\n",
              "      <td>Vietnam</td>\n",
              "      <td>Asia</td>\n",
              "      <td>2021-04-13</td>\n",
              "      <td>2714.0</td>\n",
              "      <td>9.0</td>\n",
              "      <td>35.0</td>\n",
              "      <td>0.0</td>\n",
              "    </tr>\n",
              "    <tr>\n",
              "      <th>80654</th>\n",
              "      <td>Yemen</td>\n",
              "      <td>Asia</td>\n",
              "      <td>2021-04-13</td>\n",
              "      <td>5507.0</td>\n",
              "      <td>61.0</td>\n",
              "      <td>1073.0</td>\n",
              "      <td>5.0</td>\n",
              "    </tr>\n",
              "    <tr>\n",
              "      <th>81046</th>\n",
              "      <td>Zambia</td>\n",
              "      <td>Africa</td>\n",
              "      <td>2021-04-13</td>\n",
              "      <td>90218.0</td>\n",
              "      <td>154.0</td>\n",
              "      <td>1229.0</td>\n",
              "      <td>2.0</td>\n",
              "    </tr>\n",
              "    <tr>\n",
              "      <th>81436</th>\n",
              "      <td>Zimbabwe</td>\n",
              "      <td>Africa</td>\n",
              "      <td>2021-04-13</td>\n",
              "      <td>37330.0</td>\n",
              "      <td>23.0</td>\n",
              "      <td>1543.0</td>\n",
              "      <td>1.0</td>\n",
              "    </tr>\n",
              "  </tbody>\n",
              "</table>\n",
              "<p>196 rows × 7 columns</p>\n",
              "</div>"
            ],
            "text/plain": [
              "          location      continent  ... total_deaths  new_deaths\n",
              "414    Afghanistan           Asia  ...       2529.0         0.0\n",
              "1254       Albania         Europe  ...       2326.0         5.0\n",
              "1668       Algeria         Africa  ...       3137.0         3.0\n",
              "2076       Andorra         Europe  ...        121.0         0.0\n",
              "2466        Angola         Africa  ...        554.0         0.0\n",
              "...            ...            ...  ...          ...         ...\n",
              "79390    Venezuela  South America  ...       1815.0        20.0\n",
              "79837      Vietnam           Asia  ...         35.0         0.0\n",
              "80654        Yemen           Asia  ...       1073.0         5.0\n",
              "81046       Zambia         Africa  ...       1229.0         2.0\n",
              "81436     Zimbabwe         Africa  ...       1543.0         1.0\n",
              "\n",
              "[196 rows x 7 columns]"
            ]
          },
          "metadata": {
            "tags": []
          },
          "execution_count": 38
        }
      ]
    },
    {
      "cell_type": "markdown",
      "metadata": {
        "id": "3Qsb_R06oXSV"
      },
      "source": [
        "Questions\n",
        "\n",
        "Which country/state is having highest number of cases?"
      ]
    },
    {
      "cell_type": "code",
      "metadata": {
        "colab": {
          "base_uri": "https://localhost:8080/"
        },
        "id": "SEJ3TTTGoPqu",
        "outputId": "834bef3e-f906-494e-9f11-e0b98be52cb9"
      },
      "source": [
        "column = new_df['total_cases']\n",
        "max_index = column.idxmax()\n",
        "highest_case=df_new.loc[max_index,:]\n",
        "highest_case"
      ],
      "execution_count": null,
      "outputs": [
        {
          "output_type": "execute_result",
          "data": {
            "text/plain": [
              "location        United States\n",
              "continent       North America\n",
              "date               2021-04-13\n",
              "total_cases        3.1346e+07\n",
              "new_cases               77878\n",
              "total_deaths           563446\n",
              "new_deaths                823\n",
              "Name: 77643, dtype: object"
            ]
          },
          "metadata": {
            "tags": []
          },
          "execution_count": 39
        }
      ]
    },
    {
      "cell_type": "markdown",
      "metadata": {
        "id": "hAlBj6YSozpn"
      },
      "source": [
        "Which country/state is having lowest number of cases?"
      ]
    },
    {
      "cell_type": "code",
      "metadata": {
        "colab": {
          "base_uri": "https://localhost:8080/"
        },
        "id": "UJbrqoPhoxdc",
        "outputId": "c3c2d524-559c-4c4f-b095-2ffb014d95b2"
      },
      "source": [
        "column = new_df['total_cases']\n",
        "min_index = column.idxmin()\n",
        "lowest_case=df_new.loc[min_index,:]\n",
        "lowest_case"
      ],
      "execution_count": null,
      "outputs": [
        {
          "output_type": "execute_result",
          "data": {
            "text/plain": [
              "location        Cayman Islands\n",
              "continent        North America\n",
              "date                2021-04-13\n",
              "total_cases                NaN\n",
              "new_cases                  NaN\n",
              "total_deaths               NaN\n",
              "new_deaths                 NaN\n",
              "Name: 14224, dtype: object"
            ]
          },
          "metadata": {
            "tags": []
          },
          "execution_count": 40
        }
      ]
    },
    {
      "cell_type": "markdown",
      "metadata": {
        "id": "cdrdav8zrqhm"
      },
      "source": [
        "Which country/state is having lowest number of deaths?"
      ]
    },
    {
      "cell_type": "code",
      "metadata": {
        "colab": {
          "base_uri": "https://localhost:8080/"
        },
        "id": "zTo9rAw1sBmF",
        "outputId": "352c6140-3221-41cf-a5f1-f9acf92c92b6"
      },
      "source": [
        "column = new_df['total_deaths']\n",
        "min_death = column.idxmin()\n",
        "lowest_death=df_new.loc[min_death,:]\n",
        "lowest_death"
      ],
      "execution_count": null,
      "outputs": [
        {
          "output_type": "execute_result",
          "data": {
            "text/plain": [
              "location        Cayman Islands\n",
              "continent        North America\n",
              "date                2021-04-13\n",
              "total_cases                NaN\n",
              "new_cases                  NaN\n",
              "total_deaths               NaN\n",
              "new_deaths                 NaN\n",
              "Name: 14224, dtype: object"
            ]
          },
          "metadata": {
            "tags": []
          },
          "execution_count": 43
        }
      ]
    },
    {
      "cell_type": "markdown",
      "metadata": {
        "id": "uJtbOV6fpqvj"
      },
      "source": [
        "Which country/state is having highest number of deaths?"
      ]
    },
    {
      "cell_type": "code",
      "metadata": {
        "colab": {
          "base_uri": "https://localhost:8080/"
        },
        "id": "9QufUnwTo460",
        "outputId": "0f772949-7e56-4440-93ec-80d1d77f1253"
      },
      "source": [
        "column = new_df['total_deaths']\n",
        "max_death = column.idxmax()\n",
        "highest_death=df_new.loc[max_death,:]\n",
        "highest_death"
      ],
      "execution_count": null,
      "outputs": [
        {
          "output_type": "execute_result",
          "data": {
            "text/plain": [
              "location        United States\n",
              "continent       North America\n",
              "date               2021-04-13\n",
              "total_cases        3.1346e+07\n",
              "new_cases               77878\n",
              "total_deaths           563446\n",
              "new_deaths                823\n",
              "Name: 77643, dtype: object"
            ]
          },
          "metadata": {
            "tags": []
          },
          "execution_count": 41
        }
      ]
    },
    {
      "cell_type": "code",
      "metadata": {
        "id": "qy1m9Ll0pueo"
      },
      "source": [
        ""
      ],
      "execution_count": null,
      "outputs": []
    }
  ]
}